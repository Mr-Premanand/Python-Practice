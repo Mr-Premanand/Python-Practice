{
  "cells": [
    {
      "cell_type": "markdown",
      "metadata": {
        "id": "view-in-github",
        "colab_type": "text"
      },
      "source": [
        "<a href=\"https://colab.research.google.com/github/Mr-Premanand/Python-Practice/blob/main/Integers%2C_Floats_%26_Booleans.ipynb\" target=\"_parent\"><img src=\"https://colab.research.google.com/assets/colab-badge.svg\" alt=\"Open In Colab\"/></a>"
      ]
    },
    {
      "cell_type": "markdown",
      "metadata": {
        "id": "JRdjdmztDelX"
      },
      "source": [
        "## <u>While doing this assignment only use those concepts which have been taught till now</u>"
      ]
    },
    {
      "cell_type": "markdown",
      "metadata": {
        "id": "8ECk3jeWDelY"
      },
      "source": [
        "## <u>Problem 1</u>\n",
        "\n",
        "In a cricket tournament, based on the outcome of a particular match a team gets following points:\n",
        "* <code>wins</code> gets <code>3</code> points\n",
        "* <code>draws</code> gets <code>1</code> points\n",
        "* <code>losses</code> gets <code>0</code> points\n",
        "\n",
        "Team Aravali plays <code>8</code> matches in this tournament. It wins <code>4</code> matches, loses <code>3</code> matches and draws <code>1</code>. What is the total number of points gained by the Team Aravali?"
      ]
    },
    {
      "cell_type": "code",
      "execution_count": null,
      "metadata": {
        "colab": {
          "base_uri": "https://localhost:8080/"
        },
        "id": "m68YV3OhDelZ",
        "outputId": "3dde863e-893e-4136-9ad4-25b9cf417c14"
      },
      "outputs": [
        {
          "name": "stdout",
          "output_type": "stream",
          "text": [
            "22\n"
          ]
        }
      ],
      "source": [
        "# The outcome variables are defined below\n",
        "wins = 4\n",
        "losses = 3\n",
        "draws = 1\n",
        "\n",
        "# Calculate the total points gained by Team Aravali\n",
        "aravali_points = wins*3+losses*3+draws*1\n",
        "\n",
        "# Print the variable aravali_points\n",
        "print(aravali_points)"
      ]
    },
    {
      "cell_type": "markdown",
      "metadata": {
        "id": "-ioInfYKDelh"
      },
      "source": [
        "## <u>Problem 2 </u>\n",
        "\n",
        "* Root of a function $f(x)$ is defined as the value $x$ where $f(x)=0$ \n",
        "* Consider a quadratic function $ f(x) = x^2 + 3x - 4$\n",
        "\n",
        "### Find the value of the function $f(x)$ at points   $x=2,x=-1, x=1$."
      ]
    },
    {
      "cell_type": "code",
      "execution_count": null,
      "metadata": {
        "colab": {
          "base_uri": "https://localhost:8080/"
        },
        "id": "4_HZwes5Delh",
        "outputId": "40c36e5b-78f1-4ef5-fbc4-c4973e97dd89"
      },
      "outputs": [
        {
          "name": "stdout",
          "output_type": "stream",
          "text": [
            "6\n"
          ]
        }
      ],
      "source": [
        "# Calculate the value of the function f(x) at x = 2\n",
        "x=2\n",
        "func_evaluated_at_2 = x**2+3*x-4\n",
        "print(func_evaluated_at_2)"
      ]
    },
    {
      "cell_type": "code",
      "execution_count": null,
      "metadata": {
        "colab": {
          "base_uri": "https://localhost:8080/"
        },
        "id": "uD4MAyKIDelo",
        "outputId": "400789de-8784-4180-d1de-bc78f5b5be01"
      },
      "outputs": [
        {
          "name": "stdout",
          "output_type": "stream",
          "text": [
            "-6\n"
          ]
        }
      ],
      "source": [
        "# Calculate the value of the function f(x) at x = -1\n",
        "x=-1\n",
        "func_evaluated_at_1 = x**2+3*x-4\n",
        "print(func_evaluated_at_1)\n",
        " "
      ]
    },
    {
      "cell_type": "code",
      "execution_count": null,
      "metadata": {
        "colab": {
          "base_uri": "https://localhost:8080/"
        },
        "id": "h8PgF85VDelu",
        "outputId": "0c5ae65c-0684-4d02-c223-e7c2517e9539"
      },
      "outputs": [
        {
          "name": "stdout",
          "output_type": "stream",
          "text": [
            "0\n"
          ]
        }
      ],
      "source": [
        "# Calculate the value of the function f(x) at x = 1\n",
        "x=1\n",
        "func_evaluated_at_1 = x**2+3*x-4\n",
        "print(func_evaluated_at_1)\n"
      ]
    },
    {
      "cell_type": "markdown",
      "metadata": {
        "id": "EvldlcwqDelz"
      },
      "source": [
        "### Return the boolean for each value of $x$ to find out whether that value is a root of $f(x)$"
      ]
    },
    {
      "cell_type": "code",
      "execution_count": null,
      "metadata": {
        "colab": {
          "base_uri": "https://localhost:8080/"
        },
        "id": "-tUSAgzgDel0",
        "outputId": "c9745303-297a-4d02-dfac-78f0b83a7ed2"
      },
      "outputs": [
        {
          "data": {
            "text/plain": [
              "True"
            ]
          },
          "execution_count": 3,
          "metadata": {},
          "output_type": "execute_result"
        }
      ],
      "source": [
        "# Check whether 2 is a root of f(x)\n",
        "\n",
        "x=2\n",
        "func_evaluated_at_2 = x**2+3*x-4\n",
        "func_evaluated_at_2 == func_evaluated_at_2\n"
      ]
    },
    {
      "cell_type": "code",
      "execution_count": null,
      "metadata": {
        "colab": {
          "base_uri": "https://localhost:8080/"
        },
        "id": "gsNS4Ki4Del2",
        "outputId": "4f7f1316-8e7e-43b4-abeb-806973965417"
      },
      "outputs": [
        {
          "data": {
            "text/plain": [
              "True"
            ]
          },
          "execution_count": 4,
          "metadata": {},
          "output_type": "execute_result"
        }
      ],
      "source": [
        "# Check whether -1 is a root of f(x)\n",
        "x=-1\n",
        "func_evaluated_at_1 = x**2+3*x-4\n",
        "func_evaluated_at_1==func_evaluated_at_1\n",
        " "
      ]
    },
    {
      "cell_type": "code",
      "execution_count": null,
      "metadata": {
        "colab": {
          "base_uri": "https://localhost:8080/"
        },
        "id": "yExDY-ZXDel4",
        "outputId": "52b17785-c512-4b32-ae8f-42784a2cff18"
      },
      "outputs": [
        {
          "data": {
            "text/plain": [
              "True"
            ]
          },
          "execution_count": 1,
          "metadata": {},
          "output_type": "execute_result"
        }
      ],
      "source": [
        "# Check whether 1 is a root of f(x)\n",
        "x=1\n",
        "func_evaluated_at_1 = x**2+3*x-4\n",
        "func_evaluated_at_1==func_evaluated_at_1\n"
      ]
    },
    {
      "cell_type": "markdown",
      "metadata": {
        "id": "tNAI2AHRDel6"
      },
      "source": [
        "## <u> Problem 3 </u>\n",
        "\n",
        "A bag contains <code>45</code> apples, <code>65</code> oranges and <code>30</code> bananas. Find the percentage of each type of food items in the bag."
      ]
    },
    {
      "cell_type": "code",
      "execution_count": null,
      "metadata": {
        "colab": {
          "base_uri": "https://localhost:8080/"
        },
        "id": "dqCWzAashlh9",
        "outputId": "985fb0ba-e34e-4fbd-94ae-082179d2c40d"
      },
      "outputs": [
        {
          "name": "stdout",
          "output_type": "stream",
          "text": [
            "percentage of apple is : 32.142857142857146\n"
          ]
        }
      ],
      "source": [
        "apple=45\n",
        "orange=65\n",
        "banana=30\n",
        "total=apple+orange+banana\n",
        "# Calculate the percentage of apples and print the variable\n",
        "percentage= apple/total*100\n",
        "print(f\"percentage of apple is :\",percentage)"
      ]
    },
    {
      "cell_type": "code",
      "execution_count": null,
      "metadata": {
        "colab": {
          "base_uri": "https://localhost:8080/"
        },
        "id": "XJ9Rq4P3Del7",
        "outputId": "7c99c885-4013-420f-a367-5b0cdaf83e5b"
      },
      "outputs": [
        {
          "name": "stdout",
          "output_type": "stream",
          "text": [
            "percentage of apple is : 46.42857142857143\n"
          ]
        }
      ],
      "source": [
        "# Calculate the percentage of oranges and print the variable\n",
        "percentage= orange/total*100\n",
        "print(f\"percentage of orange is :\",percentage)\n"
      ]
    },
    {
      "cell_type": "code",
      "execution_count": null,
      "metadata": {
        "colab": {
          "base_uri": "https://localhost:8080/"
        },
        "id": "S6lJZtaXDel9",
        "outputId": "238e3353-2233-45cc-d760-b408a718ed12"
      },
      "outputs": [
        {
          "name": "stdout",
          "output_type": "stream",
          "text": [
            "percentage of banana is : 21.428571428571427\n"
          ]
        }
      ],
      "source": [
        "# Calculate the percentage of banana and print the variable\n",
        "\n",
        "percentage= banana/total*100\n",
        "print(f\"percentage of banana is :\",percentage)"
      ]
    },
    {
      "cell_type": "markdown",
      "metadata": {
        "id": "F44LczfzDemD"
      },
      "source": [
        "## <u>Problem 4</u>\n",
        "\n",
        "You were playing a fun guessing game during your school break. There were a total of 100 participants excluding you. Out of these 100 people, 30 were Maths Majors, 45 were Economics Majors and 25 were Physics Majors.\n",
        "\n",
        "The game was divided into three rounds.\n",
        "\n",
        "* In the first round, you had to guess the number of Maths Majors and you <b>correctly</b> guessed 20 of them.\n",
        "* In the second round, you had to guess the number of Economics Majors and you <b>correctly</b> guessed 30 of them.\n",
        "* In the final third round, you had to guess the number of Physics Majors and you <b>correctly</b> guessed 20 of them.\n",
        "\n",
        "### Accuracy is defined as the number of correct guesses upon total number of people in the group (expressed in percentage)"
      ]
    },
    {
      "cell_type": "markdown",
      "metadata": {
        "id": "lkGEV_zpDemE"
      },
      "source": [
        "* ### Define your variables"
      ]
    },
    {
      "cell_type": "code",
      "execution_count": null,
      "metadata": {
        "colab": {
          "base_uri": "https://localhost:8080/"
        },
        "id": "OfXY9LcVDemF",
        "outputId": "724f7eec-2003-421d-debf-a86a1e854d00"
      },
      "outputs": [
        {
          "name": "stdout",
          "output_type": "stream",
          "text": [
            "Math accuracy:\t 66.66666666666666\n",
            "Economic accuracy:\t 66.66666666666666\n",
            "Physics accuracy:\t 57.14285714285714\n"
          ]
        }
      ],
      "source": [
        "# Store the number of Maths majors\n",
        "math_major=30\n",
        "# Store the number of Economics majors\n",
        "economic_major=45\n",
        "# Store the number of Physics majors\n",
        "physics_majoor=35\n",
        "# Store the number of your correct guesses of Maths majors\n",
        "correct_math_guesses=20\n",
        "# Store the number of your correct guesses of Economics majors\n",
        "correct_economics_guesses=30\n",
        "# Store the number of your correct guesses of Physics majors\n",
        "correct_physics_guesses=20\n",
        "\n",
        "# Print the Maths accuracy\n",
        "math_accuracy=correct_math_guesses/math_major*100\n",
        "print(\"Math accuracy:\\t\",math_accuracy)\n",
        "\n",
        "# Print the Economics accuracy\n",
        "economic_accuracy=correct_economics_guesses/economic_major*100\n",
        "print(\"Economic accuracy:\\t\",economic_accuracy)\n",
        "\n",
        "# Print the Physics accuracy\n",
        "\n",
        "physics_accuarcy=correct_physics_guesses/physics_majoor*100\n",
        "print(\"Physics accuracy:\\t\",physics_accuarcy)"
      ]
    },
    {
      "cell_type": "markdown",
      "metadata": {
        "id": "Eg_Or6GmDemI"
      },
      "source": [
        "* ### Calculate your accuracy in each of the three rounds"
      ]
    }
  ],
  "metadata": {
    "colab": {
      "name": "Integers, Floats & Booleans.ipynb",
      "provenance": [],
      "include_colab_link": true
    },
    "kernelspec": {
      "display_name": "Python 3 (ipykernel)",
      "language": "python",
      "name": "python3"
    },
    "language_info": {
      "codemirror_mode": {
        "name": "ipython",
        "version": 3
      },
      "file_extension": ".py",
      "mimetype": "text/x-python",
      "name": "python",
      "nbconvert_exporter": "python",
      "pygments_lexer": "ipython3",
      "version": "3.9.7"
    }
  },
  "nbformat": 4,
  "nbformat_minor": 0
}