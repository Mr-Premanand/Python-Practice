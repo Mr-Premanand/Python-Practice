{
  "nbformat": 4,
  "nbformat_minor": 0,
  "metadata": {
    "kernelspec": {
      "display_name": "Python 3",
      "language": "python",
      "name": "python3"
    },
    "language_info": {
      "codemirror_mode": {
        "name": "ipython",
        "version": 3
      },
      "file_extension": ".py",
      "mimetype": "text/x-python",
      "name": "python",
      "nbconvert_exporter": "python",
      "pygments_lexer": "ipython3",
      "version": "3.7.4"
    },
    "colab": {
      "name": "Tuples,_Sets_and_Dictionaries.ipynb",
      "provenance": [],
      "collapsed_sections": [],
      "include_colab_link": true
    }
  },
  "cells": [
    {
      "cell_type": "markdown",
      "metadata": {
        "id": "view-in-github",
        "colab_type": "text"
      },
      "source": [
        "<a href=\"https://colab.research.google.com/github/Mr-Premanand/Python-Practice/blob/main/Tuples%2C_Sets_and_Dictionaries.ipynb\" target=\"_parent\"><img src=\"https://colab.research.google.com/assets/colab-badge.svg\" alt=\"Open In Colab\"/></a>"
      ]
    },
    {
      "cell_type": "markdown",
      "metadata": {
        "id": "8WbUJEVzs8Bx"
      },
      "source": [
        "## <u>While doing this assignment only use those concepts which have been taught till now</u>"
      ]
    },
    {
      "cell_type": "markdown",
      "metadata": {
        "id": "KjPWYK0Rs8By"
      },
      "source": [
        "## <u>Problem 1</u>\n",
        "\n",
        "### Another measure of average\n",
        "\n",
        "* Mode is defined as the value that appears most often in a set of data values. Mode corresponds to the most frequent value.\n",
        "* You are given a list of numbers and you need to calculate the mode of this list"
      ]
    },
    {
      "cell_type": "code",
      "metadata": {
        "id": "34TbaGurs8Bz",
        "outputId": "ba54202f-efa2-4aa3-cc72-b2aac70e0f08",
        "colab": {
          "base_uri": "https://localhost:8080/"
        }
      },
      "source": [
        "\n",
        "# A list containing average daily temperature over 10 days\n",
        "temperatures = [34, 40, 29, 33, 42, 40, 39, 34, 34,33 ]\n",
        "\n",
        "# Step 1 : Find the unique set of values. Store this in a list\n",
        "unique_temperatures = set(temperatures)\n",
        "\n",
        "# Print the unique temperature list\n",
        "print(unique_temperatures)\n",
        "\n",
        "# Step 2 : Create an empty dictionary which will contain the unique temperatures as keys and their counts in the original temperatures list as values\n",
        "temp_dict = {}\n",
        "\n",
        "\n",
        "# Set the values for each key separately\n",
        "# First key\n",
        "temp_dict[\"33\"]=temperatures.count(33)\n",
        "\n",
        "# Second key\n",
        "temp_dict[\"34\"]=temperatures.count(34)\n",
        "\n",
        "# Third key\n",
        "temp_dict[\"39\"]=temperatures.count(39)\n",
        "\n",
        "# Fourth key\n",
        "temp_dict[\"40\"]=temperatures.count(40)\n",
        "\n",
        "# Fifth key\n",
        "temp_dict[\"42\"]=temperatures.count(42)\n",
        "\n",
        "# Sixth key\n",
        "temp_dict[\"29\"]=temperatures.count(29)\n",
        "\n",
        "\n",
        "\n",
        "# Step 3: Store the dictionary values in a list\n",
        "temp_dict_frequencies = temp_dict\n",
        "\n",
        "# Print the list of dictionary values\n",
        "print(\"Temp_dict_frequency=\\t\",temp_dict_frequencies)\n",
        "\n",
        "# Find the index of the most frequent temperature value\n",
        "dict_value=temp_dict_frequencies.values()\n",
        "most_frequent_temp_index=tuple(dict_value)\n",
        "a=most_frequent_temp_index.index(3)\n",
        "print('most_frequent_temp_index=\\t',a)\n",
        "\n",
        "# Step 4 : Create the list of dictionary keys\n",
        "temp_dict_keys = temp_dict_frequencies.keys()\n",
        "\n",
        "# Print the list of dictionary keys\n",
        "print(\"temp_dict_keys=\\t\",temp_dict_keys)\n",
        "\n",
        "# Calculate the mode temperature\n",
        "mode_temp = most_frequent_temp_index[a]\n",
        "print(\"mode=\\t\",mode_temp)"
      ],
      "execution_count": null,
      "outputs": [
        {
          "output_type": "stream",
          "name": "stdout",
          "text": [
            "{33, 34, 39, 40, 42, 29}\n",
            "Temp_dict_frequency=\t {'33': 2, '34': 3, '39': 1, '40': 2, '42': 1, '29': 1}\n",
            "most_frequent_temp_index=\t 1\n",
            "temp_dict_keys=\t dict_keys(['33', '34', '39', '40', '42', '29'])\n",
            "mode=\t 3\n"
          ]
        }
      ]
    },
    {
      "cell_type": "markdown",
      "metadata": {
        "id": "5qd8g8UUs8CM"
      },
      "source": [
        "## <u>Problem 2 </u>\n",
        "\n",
        "### Challenging the immutability of tuples\n",
        "\n",
        "You are given a list of tuples. You need to replace the last element of the last tuple"
      ]
    },
    {
      "cell_type": "code",
      "metadata": {
        "id": "FBJy9Sq_s8CN",
        "outputId": "6e1f4918-3c93-47a9-a479-6e292d8cdde1",
        "colab": {
          "base_uri": "https://localhost:8080/"
        }
      },
      "source": [
        "# Input list of tuples\n",
        "\n",
        "list_of_tuples = [(10,20,30),(30,40,50),(50,60,70)]\n",
        "\n",
        "\n",
        "# Expected output : Replace the last element 70 with 100\n",
        "# output_list = [(10,20,30),(30,40,50),(50,60,100)]\n",
        "\n",
        "# Your code here \n",
        "#convert tuple into list\n",
        "l=list((list_of_tuples))\n",
        "l2=list(l[2])\n",
        "l2[2]=100\n",
        "l2\n",
        "l.remove(l[2])\n",
        "\n",
        "output_list=l.append(l2)\n",
        "print(output_list)\n",
        "\n",
        "\n",
        "# Print the output list"
      ],
      "execution_count": null,
      "outputs": [
        {
          "output_type": "execute_result",
          "data": {
            "text/plain": [
              "[(10, 20, 30), (30, 40, 50)]"
            ]
          },
          "metadata": {},
          "execution_count": 55
        }
      ]
    },
    {
      "cell_type": "markdown",
      "metadata": {
        "id": "ejRCi-vTs8CU"
      },
      "source": [
        "## <u> Problem 3 </u>\n",
        "\n",
        "Natural Language Processing or NLP is one of the most promising fields in Machine Learning. Most of the times in NLP we deal with the textual data (a bunch of strings). Sometimes when we are processing the text, it is a common practice to get rid of some set of stop words from our original text. By default stop words are very common words used in English language such as and, or, punctuations etc.\n",
        "\n",
        "In this exercise, you are provided with a default set of stop words and you need to add some extra set of custom words."
      ]
    },
    {
      "cell_type": "code",
      "metadata": {
        "id": "C5olNuDGs8CU",
        "outputId": "588be3bd-2580-4404-d5b6-12148493e96c",
        "colab": {
          "base_uri": "https://localhost:8080/"
        }
      },
      "source": [
        "# A sample sentence \n",
        "\n",
        "sentence = 'Hello, good morning folks! Today we will announce the half yearly performance results of the company. Due to the ongoing COVID-19 pandemic, our profits have declined by 60% as compared to the last half yearly results'\n",
        "\n",
        "# Print your sentence\n",
        "print(sentence)"
      ],
      "execution_count": null,
      "outputs": [
        {
          "output_type": "stream",
          "name": "stdout",
          "text": [
            "Hello, good morning folks! Today we will announce the half yearly performance results of the company. Due to the ongoing COVID-19 pandemic, our profits have declined by 60% as compared to the last half yearly results\n"
          ]
        }
      ]
    },
    {
      "cell_type": "code",
      "metadata": {
        "id": "B4afm8gCs8CY",
        "outputId": "bed17464-d282-4552-8595-4bd8821a4be1",
        "colab": {
          "base_uri": "https://localhost:8080/"
        }
      },
      "source": [
        "# Default set of stop words \n",
        "stop_words = {\"i\", \"me\", \"my\", \"myself\", \"we\", \"our\", \"ours\", \"ourselves\", \"you\", \"your\", \"yours\", \"yourself\", \n",
        "              \"yourselves\", \"he\", \"him\", \"his\", \"himself\", \"she\", \"her\", \"hers\", \"herself\", \"it\", \"its\", \"itself\",\n",
        "              \"they\", \"them\", \"their\", \"theirs\", \"themselves\", \"what\", \"which\", \"who\", \"whom\", \"this\", \"that\",\n",
        "              \"these\", \"those\", \"am\", \"is\", \"are\", \"was\", \"were\", \"be\", \"been\", \"being\", \"have\", \"has\", \"had\",\n",
        "              \"having\", \"do\", \"does\", \"did\", \"doing\", \"a\", \"an\", \"the\", \"and\", \"but\", \"if\", \"or\", \"because\",\n",
        "              \"as\", \"until\", \"while\", \"of\", \"at\", \"by\", \"for\", \"with\", \"about\", \"against\", \"between\", \"into\",\n",
        "              \"through\", \"during\", \"before\", \"after\", \"above\", \"below\", \"to\", \"from\", \"up\", \"down\", \"in\", \"out\", \n",
        "              \"on\", \"off\", \"over\", \"under\", \"again\", \"further\", \"then\", \"once\", \"here\", \"there\", \"when\", \"where\",\n",
        "              \"why\", \"how\", \"all\", \"any\", \"both\", \"each\", \"few\", \"more\", \"most\", \"other\", \"some\", \"such\", \"no\",\n",
        "              \"nor\", \"not\", \"only\", \"own\", \"same\", \"so\", \"than\", \"too\", \"very\", \"s\", \"t\", \"can\", \"will\", \"just\",\n",
        "              \"don\", \"should\", \"now\"}\n",
        "\n",
        "# Update the set of stop words by adding the custom stop words\n",
        "custom_stop_words = [\"hello\",\"good\",\"morning\",\"half\",\"yearly\"]\n",
        "\n",
        "# Your code here\n",
        "stop_words.update(custom_stop_words)\n",
        "\n",
        "# Print the updated stop words\n",
        "print(\"updated stop word =\",stop_words)"
      ],
      "execution_count": null,
      "outputs": [
        {
          "output_type": "stream",
          "name": "stdout",
          "text": [
            "updated stop word = {'me', 'is', 'half', 'he', 'about', 'them', 'own', 'good', 'when', 'will', 'under', 'were', 'had', 'of', 'now', 'be', 'whom', 'against', 'very', 'she', 'between', 'some', 'any', 'these', 'once', 'yearly', 'up', 'their', 'that', 'who', 'before', 'its', 'been', 'off', 'are', 'hello', 'below', 'herself', 'not', 'ours', 'can', 'more', 'again', 'morning', 'by', 'which', 'during', 'itself', 'i', 'over', 'yourselves', 'theirs', 'how', 'most', 'being', 'a', 'after', 'each', 'yours', 'from', 'the', 'yourself', 'just', 'your', 'as', 'him', 'did', 'you', 'through', 'nor', 'his', 'same', 'those', 'where', 'having', 'hers', 'then', 'no', 'it', 'don', 'such', 'does', 'have', 'himself', 'both', 'themselves', 'ourselves', 'has', 'why', 'other', 'for', 'my', 's', 'her', 'do', 'while', 'further', 't', 'than', 'there', 'in', 'they', 'so', 'to', 'because', 'if', 'what', 'down', 'few', 'should', 'an', 'all', 'at', 'our', 'am', 'this', 'out', 'too', 'until', 'we', 'was', 'doing', 'with', 'above', 'on', 'here', 'myself', 'but', 'and', 'into', 'or', 'only'}\n"
          ]
        }
      ]
    },
    {
      "cell_type": "markdown",
      "metadata": {
        "id": "P1rOYC8Is8Cf"
      },
      "source": [
        "## <u>Problem 4</u>\n",
        "\n",
        " Write a Python script to check whether a given key already exists in a dictionary. If it does, drop that key from the dictionary. If it does not, add that key and corresponding value to the dictionary"
      ]
    },
    {
      "cell_type": "code",
      "metadata": {
        "id": "ySeGyCtCs8Cg",
        "outputId": "2b8f3fea-249f-4fe5-8725-b24f08eec36d",
        "colab": {
          "base_uri": "https://localhost:8080/"
        }
      },
      "source": [
        "# Your dictionary\n",
        "employee_dict = {'Name':'Sanket','Skills':['Python','Machine Learning','Deep Learning'],'Band':6.0,\n",
        "                 'Promotion Year':[2016,2018,2020]}\n",
        "# Check if the key 'Employee_ID' is present in the dictionary. Hint : use a boolean variable to store this value\n",
        "\"Employee_ID\" in employee_dict.keys()\n",
        "\n",
        "# If not present add this key to this dictionary and the corresponding value to be 4503233\n",
        "employee_dict[\"Employee_ID\"]=4503233\n",
        "employee_dict\n",
        "\n",
        "# Check if the key 'Band' is present in the dictionary.\n",
        "\"Band\"in employee_dict.keys()\n",
        "\n",
        "# If present, drop this key from the dictionary\n",
        "employee_dict.pop(\"Band\")\n",
        "\n",
        "# Print the updated dictionary\n",
        "print(employee_dict)"
      ],
      "execution_count": null,
      "outputs": [
        {
          "output_type": "execute_result",
          "data": {
            "text/plain": [
              "{'Employee_ID': 4503233,\n",
              " 'Name': 'Sanket',\n",
              " 'Promotion Year': [2016, 2018, 2020],\n",
              " 'Skills': ['Python', 'Machine Learning', 'Deep Learning']}"
            ]
          },
          "metadata": {},
          "execution_count": 64
        }
      ]
    }
  ]
}