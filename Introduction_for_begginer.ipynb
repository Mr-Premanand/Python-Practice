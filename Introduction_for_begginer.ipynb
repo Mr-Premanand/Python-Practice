{
  "nbformat": 4,
  "nbformat_minor": 0,
  "metadata": {
    "colab": {
      "name": "Introduction for begginer.ipynb",
      "provenance": [],
      "collapsed_sections": [],
      "authorship_tag": "ABX9TyOC9gfPPayEfhiaY/3Jk3r4",
      "include_colab_link": true
    },
    "kernelspec": {
      "name": "python3",
      "display_name": "Python 3"
    },
    "language_info": {
      "name": "python"
    }
  },
  "cells": [
    {
      "cell_type": "markdown",
      "metadata": {
        "id": "view-in-github",
        "colab_type": "text"
      },
      "source": [
        "<a href=\"https://colab.research.google.com/github/Mr-Premanand/Python-Practice/blob/main/Introduction_for_begginer.ipynb\" target=\"_parent\"><img src=\"https://colab.research.google.com/assets/colab-badge.svg\" alt=\"Open In Colab\"/></a>"
      ]
    },
    {
      "cell_type": "code",
      "source": [
        "# STRINGS\n",
        "a= \"my name is prem\"\n",
        "len(a)       # for lenght of string\n",
        "a.lower()    # for lower font\n",
        "a.upper()     #for upper font \n",
        "a[1]        # string number\n",
        "a[3:7]       # in this tring number at fist taken is included i.e 3=n and second string after : is excluded i.e 7= space\n",
        "a.replace('p','g')    # replace th string of first by second string\n",
        "a.count(\"e\")    # count the string or complet full word writter in\"\" no, of time repeated\n",
        "a.find(\"e\")     # to find the spring index number \n",
        "a.find(\"prem\")    # to find the starting string index number of word\n",
        "\n",
        "b= \"my,name,     is/prem\"\n",
        "a.split(',')     # to split the by ,     \n"
      ],
      "metadata": {
        "id": "QK7sGgLuozlI"
      },
      "execution_count": null,
      "outputs": []
    },
    {
      "cell_type": "code",
      "source": [
        "#INTEGER OR VARIABLE\n",
        "a = 23\n",
        "b = 45\n",
        "c = 3.5\n",
        "a!=b         # amsweri true becuase givencondition of not equal to is true\n",
        "a==b         # answer is false because given condition of equal to is false\n",
        "type(a)    # to know the type of variable i.e integer(int), Float(float), True/false(boolen), for alphabate (string), for complex nu,ber like 3+4i ( complex)\n",
        "a+b     # addition of variable i.e integer\n",
        "type(c)    # float type\n",
        "\n",
        "a= False\n",
        "b=True\n",
        "# logical operator like & and | or\n",
        "a&b     # answer is false because at least one false is present \n",
        "a&a     # answer is false because both false \n",
        "b&b     # answer is true because both true\n",
        "\n",
        "a|b     # answer is true because at least one true is present\n",
        "a|a     # answer is false because both are false\n",
        "b|b     # answer is true because both are true\n"
      ],
      "metadata": {
        "id": "aVNhb69Erm7U"
      },
      "execution_count": null,
      "outputs": []
    },
    {
      "cell_type": "code",
      "source": [
        "# important\n",
        "a=\"1\"\n",
        "type(a)    #in this we know that 1 is integer but as it is writen in double colon\"\" or single colon'' so that its string i.e strings are written in double/single colon\n",
        "a='1'\n",
        "type(a)"
      ],
      "metadata": {
        "id": "s4_7eAL9jjsu"
      },
      "execution_count": null,
      "outputs": []
    },
    {
      "cell_type": "code",
      "source": [
        "#TUPLE,\n",
        "#are the immutable i.e once we define we cant change it later, tuple is combination of two or more type of variable i.e integer, float,string,boolen \n",
        "tup1=(1,\"B\",True,'name',False,5.56)\n",
        "type(tup1)      #type of variable\n",
        "len(tup1)      # lenght of tuple having six element\n",
        "tup1[3]         # index of tuple by element number\n",
        "tup1[2:6]       # in this we call element of tuple i.e including first and excluding second index no.\n",
        "tup1= 23       # answer will be error because we cant define tuple once it define i.e we have defined it in first line then now we cant define here so that error comes\n",
        "\n"
      ],
      "metadata": {
        "id": "czU2M6fKupCB"
      },
      "execution_count": null,
      "outputs": []
    },
    {
      "cell_type": "code",
      "source": [
        "#CONCATENATING TUPLE \n",
        "#i.e add tuple in one line\n",
        "tup1=(34, 5.6, \"prem\")\n",
        "tup2=('sham', 45, 6.7,True)\n",
        "tup1+tup2      # tuple 1 then followed by tuple 2\n",
        "tup2+tup1      # tuple 2 then follwed by tuple 1\n",
        "\n",
        "# REPEATATING TUPLE i.e repeat the tuple \n",
        "tup1*2      # tuple 1 repetate for 2 times\n",
        "tup2*4      # tupke 2 repeted for 4 time\n",
        "\n",
        "# REPEATATING AND CONCATENATING TUPLE\n",
        "tup1*2+tup2     # multiplying tuple or repetating tuple 1 for two time and then add tuple 1\n",
        "tup2*3+tup1     # multiplying tuple or repetating tuple 2 for 3 times and then add tuple 1\n"
      ],
      "metadata": {
        "id": "6Fz2MXnu4uvw"
      },
      "execution_count": null,
      "outputs": []
    },
    {
      "cell_type": "code",
      "source": [
        "# MAX AND MIN VALUE FROM TUPLE\n",
        "# in this we need to add only number i.e integer or float otherwise by adding string and boolen result to error\n",
        "tup1=(2,4,5,6,7.6)\n",
        "tup2=(34,4,5.2)\n",
        "min(tup1)   # 2, min value from tup 1 \n",
        "max(tup2)   # 34, max value from tuple 2\n",
        "max(tup1+tup2)   #34,from cancatenating tuple to obtain max value from both tuple\n",
        "min(tup2+tup1)    # 2,from concatenating tuple to obtain min value from both tuple\n",
        "max(tup1*2+tup2)    # 34, combine repetating and concatenating tuple.\n",
        "min(tup1*2+tup2)+max(tup1*2+tup2)   # 34+2=36 to add min and max value by using repetating and concatenating tuple in combine\n",
        "max(tup1*2+tup2)&min(tup1*2+tup2)   # this is boolen in this result comes like True= max and False= min becuase in and required both true but in this having max and min both so result comes false i.e min value,2\n",
        "max(tup1*2+tup2)|min(tup1*2+tup2)   # True=max and False=min in or boolen at least one should be true i.e max to get true value i.e max value so that result is ,34 for true= max value"
      ],
      "metadata": {
        "id": "E5LbjH9Z9Ewv"
      },
      "execution_count": null,
      "outputs": []
    },
    {
      "cell_type": "code",
      "source": [
        "##lIST \n",
        "#list is similar as tuple but list is mutable i.e we can modifiy it once it define\n",
        "l1=[1,3.4,'prem',True]\n",
        "type(l1)   # type is list\n",
        "l1[2]      # index no. of element\n",
        "\n",
        "# Changing/modifying the \n",
        "l1[2]=\"pritam\"      # here we again define index 2(prem)as pritam, and we will print it below\n",
        "l1              \n",
        "\n",
        "# Appending i.e adding new element/String at end\n",
        "l1.append(3)     # add 3 and below for print\n",
        "l1\n",
        "l1.append(\"prem\")   # add string and print below\n",
        "l1\n",
        "\n",
        "# Popping the last element i.e removing the last element\n",
        "l1.pop()      # removed last element\n",
        "l1\n",
        "\n",
        "# inserting/replacing element ata perticular index \n",
        "l1.insert(1,'sparta')\n",
        "l1\n",
        "\n",
        "# revering the sequence\n",
        "l1.reverse()\n",
        "l1\n",
        "\n",
        "l2=[5,2,1,2,4,7,]\n",
        "# sorting of list \n",
        "l2.sort()\n",
        "l2\n",
        "\n",
        "l3=['sham','ram',\"Prem\",\"Apple\",'prashant']\n",
        "l3.sort()\n",
        "l3\n",
        "\n",
        "# Concatanating the list\n",
        "l1+l2   # adding in sequence\n",
        "\n",
        "# Repeatating the list\n",
        "l1*2     # repetating the list\n"
      ],
      "metadata": {
        "id": "1JQafWGjQUfJ"
      },
      "execution_count": null,
      "outputs": []
    },
    {
      "cell_type": "code",
      "source": [
        "#DICTIONARY\n",
        "#dictionary is unordered keyset define by perticular value in a {curly bracket} and it is mutable and unindexed and in this duplicate i.e repeated values are not allowed\n",
        "# for example make disctonary of subject and its weightage\n",
        "subject={\"math\":100,\"scienece\":90,\"physics\":50,\"chemistry\":60,}\n",
        "subject\n",
        "\n",
        "# to call only key/subject name\n",
        "subject.keys()\n",
        "\n",
        "# to call that keys/subjects value i.e weightage\n",
        "subject.values()\n",
        "\n",
        "# to call total items and its value\n",
        "subject.items()\n",
        "\n",
        "# to add more subject in above defined dictionary\n",
        "subject[\"history\"]=70     # here only added in backend but to see we need to print below\n",
        "subject                   #here we printed,   one think need to consider is that in this all data are aranger automatically in sequence\n",
        "\n",
        "# to define already exists subject/key by different weightage/value\n",
        "subject[\"math\"]=30      # here it get define by new value to print below go and type dictionary name\n",
        "subject\n",
        "\n",
        "# Update one distionary with other engg subject distionary\n",
        "Enggsub={'som':1007,\"m1\":150,\"MS\":200}\n",
        "subject.update(Enggsub)    #here we add/update distionary of subject by engg distionary\n",
        "subject\n",
        "\n",
        "#popping the element from dictionary i.e removing the element\n",
        "subject.pop(\"som\")    # here som subject is removed and printed below\n",
        "subject\n",
        "\n"
      ],
      "metadata": {
        "id": "rBKYSX5Po2Se"
      },
      "execution_count": null,
      "outputs": []
    },
    {
      "cell_type": "code",
      "source": [
        "#SET\n",
        "#it also variable like tuple and dictionary but it is unindexed and mutable and does not allowed duplicated i.e repeated value,  similar as dictionary\n",
        "s1={1,2,1,3}\n",
        "s1                  # value of 1 is repeted but not comes in set \n",
        "\n",
        "# to add one element\n",
        "s1.add(4)       # to add one element we use add, to add string always use double colon\"\"\n",
        "s1\n",
        "\n",
        "# to update more than one element\n",
        "s1.update([7, \"prem\"])            # to add more than one element\n",
        "s1                    \n",
        "\n",
        "#to remove element\n",
        "s1.remove(1)        # to remove element\n",
        "s1\n",
        "\n",
        "# to union two set or add to sets like  in tup1+tup2\n",
        "s2={4,6,5,9,8}\n",
        "s1.union(s2)\n",
        "\n",
        "# to obtain same element\n",
        "s1.intersection(s2)\n",
        "\n"
      ],
      "metadata": {
        "id": "ZRY1-4fX6LhD"
      },
      "execution_count": null,
      "outputs": []
    },
    {
      "cell_type": "code",
      "source": [
        "#IF STATEMENT\n",
        "a=10\n",
        "b=20\n",
        "\n",
        "if a>b:\n",
        "  print(\"a is greatre than b\")   # in this it will not satisfying condition so it will not print\n",
        "\n",
        "if b>a:\n",
        "  print(\"b is greater than a\")    # here condition is satisfied so it will print \n",
        "\n",
        "#if else statement\n",
        "if a>b:\n",
        "  print(\"a is greater than b\")\n",
        "else:\n",
        "  print(\"b is greater than a\")  \n",
        "\n",
        "# if else elif statement\n",
        "a=10\n",
        "b=20\n",
        "c=30\n",
        "if (a>b & a>c):                        # inthis we used & boolen to obatain result only when both conditon satisfied\n",
        "  print(\"A is gretest value\")\n",
        "elif (b>a & b>c):\n",
        "  print(\"B is greatest value\")\n",
        "else:\n",
        "  print(\"C is greatest value\")"
      ],
      "metadata": {
        "id": "Lk3uha3sBu-5"
      },
      "execution_count": null,
      "outputs": []
    },
    {
      "cell_type": "code",
      "source": [
        "# If statement for TUPLE\n",
        "tup1=(1,3,4,5,7,3)\n",
        "if 6 in tup1:\n",
        "  print(\"6 is present in the tuple\")\n",
        "else:\n",
        "  print(\"6 is not present in the tuple\")"
      ],
      "metadata": {
        "id": "hzXUELJ2FzI6"
      },
      "execution_count": null,
      "outputs": []
    },
    {
      "cell_type": "code",
      "source": [
        "# If statement fir LIST\n",
        "l1=[1,3,5,8,5,6]\n",
        "if l1[3]==8:                      # in this we use index of 3 and check it and if it is satistying then replace index of 3 by value of index 3 with ad of 100\n",
        "  l1[3]=l1[3]+100\n",
        "l1                                # to call\n",
        "\n",
        "# if else statement\n",
        "if l1[2]==8:\n",
        "  l1[1]=l1[1]*2                    # in this we used else conditon if index of 2 is not ssatisfird then it move to index 5 to replec it by adding index 5 value with 400\n",
        "else:\n",
        "  l1[5]=l1[5]+400\n",
        "l1"
      ],
      "metadata": {
        "id": "cL8iPdPFHG33"
      },
      "execution_count": null,
      "outputs": []
    },
    {
      "cell_type": "code",
      "source": [
        "# If statement for DICTIONARY\n",
        "subject={\"math\":100,\"scienece\":90,\"physics\":50,\"chemistry\":60,}\n",
        "if subject[\"physics\"]==50:\n",
        "  subject[\"physics\"]=99.9        # similar as above , in this we check if physics have marks of 50 then replce it by 99.99\n",
        "subject\n",
        "\n",
        "# if else statement\n",
        "if subject[\"chemistry\"]==70:\n",
        "  subject[\"chemistry\"]=subject[\"chemistry\"]+20             # in this we check that chemistry have 70 mark if not then to replace it by adding its 30 to its exist mark\n",
        "else:\n",
        "  subject[\"chemistry\"]=subject[\"chemistry\"]+30\n",
        "subject                                                    # as in above comand is to only replac not to print so that to call value this comand is use.\n"
      ],
      "metadata": {
        "id": "zcKwdr0PJfVJ"
      },
      "execution_count": null,
      "outputs": []
    },
    {
      "cell_type": "markdown",
      "source": [
        ""
      ],
      "metadata": {
        "id": "zotIW4h03SC3"
      }
    },
    {
      "cell_type": "code",
      "source": [
        "# WHILE LOOP \n",
        "i=1\n",
        "while i<=10:             # in this we first defie value of i as 1 then give conditon that while value of i is less than or euqal to 10 till loop will repeat\n",
        "  print(i)               \n",
        "  i=i+1                  # here we give  increment value by 1 to check\n",
        "\n"
      ],
      "metadata": {
        "id": "QYeYyTYLRZXL"
      },
      "execution_count": null,
      "outputs": []
    },
    {
      "cell_type": "code",
      "source": [
        "# While loop to calculate table of 4\n",
        "i=1\n",
        "n=4\n",
        "while i<=10:\n",
        "  print(n, \"*\", i, \"=\", n*i)\n",
        "  i=i+1"
      ],
      "metadata": {
        "id": "14oIjs37TswP"
      },
      "execution_count": null,
      "outputs": []
    },
    {
      "cell_type": "code",
      "source": [
        "# while loop with list\n",
        "l1=[2,4,5,6,7,2,6,4]\n",
        "i=0\n",
        "while i< len(l1):     #in this we define i ans 0 and then continue loop uptil value of i is less than lenght of List i.e lenght is 8 and as i defined 0 then it will continue and index is defined by replacing value\n",
        "  l1[i]=l1[i]+100\n",
        "  i=i+1\n",
        "l1"
      ],
      "metadata": {
        "id": "FgERFe_KR6Gp"
      },
      "execution_count": null,
      "outputs": []
    },
    {
      "cell_type": "code",
      "source": [
        "# For loop\n",
        "# in for loop we do not required to give sequeance it take it as itself\n",
        "l1=[\"orange\",\"fish\",2,4,'mango']\n",
        "for i in l1:\n",
        "  print(i)            # as we seen that in result it sequence itself and print one by one"
      ],
      "metadata": {
        "id": "9MW63ck4ji31"
      },
      "execution_count": null,
      "outputs": []
    },
    {
      "cell_type": "code",
      "source": [
        "# For loop\n",
        "# to print element combinely or with each other from list\n",
        "l1=['mango','fish','bag']\n",
        "l2=['blue','yellow','red']\n",
        "for i in l1:\n",
        "  for j in l2:\n",
        "    print(i,j)"
      ],
      "metadata": {
        "id": "82Qw6Y8MkiyK"
      },
      "execution_count": null,
      "outputs": []
    }
  ]
}