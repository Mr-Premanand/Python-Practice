{
  "cells": [
    {
      "cell_type": "markdown",
      "metadata": {
        "id": "view-in-github",
        "colab_type": "text"
      },
      "source": [
        "<a href=\"https://colab.research.google.com/github/Mr-Premanand/Python-Practice/blob/main/Statements%2C_Indentation_and_Conditionals.ipynb\" target=\"_parent\"><img src=\"https://colab.research.google.com/assets/colab-badge.svg\" alt=\"Open In Colab\"/></a>"
      ]
    },
    {
      "cell_type": "markdown",
      "metadata": {
        "id": "8WbUJEVzs8Bx"
      },
      "source": [
        "## <u>While doing this assignment only use those concepts which have been taught till now</u>"
      ]
    },
    {
      "cell_type": "markdown",
      "metadata": {
        "id": "KjPWYK0Rs8By"
      },
      "source": [
        "## <u>Problem 1</u>\n",
        "\n",
        "### As an analyst, you had to present the quarterly performance results of your client. The data which you were provided was on daily basis. To complete this task, you needed to extract the quarter from a given date. For example:\n",
        "\n",
        "* if the date lies between 1st Jan, 2020 - 31st March, 2020, you need to extract the corresponding quarter as '2020-Q1'\n",
        "\n",
        "* if the date lies between 1st April, 2020 - 30th June, 2020, the extracted quarter will be '2020-Q2'\n",
        "\n",
        "* if the date lies between 1st July, 2020 - 30th September, 2020, the extracted quarter will be '2020-Q3' \n",
        "\n",
        "* if the date lies between 1st October, 2020 - 31st Decemeber, 2020 then the extracted quarter will be '2020-Q4'\n"
      ]
    },
    {
      "cell_type": "code",
      "execution_count": null,
      "metadata": {
        "colab": {
          "base_uri": "https://localhost:8080/"
        },
        "id": "N1Yhpkiws8B3",
        "outputId": "fadfb09e-9076-4427-9e44-4622058eabf1"
      },
      "outputs": [
        {
          "name": "stdout",
          "output_type": "stream",
          "text": [
            "Enter the date in YYYY-MM-DD format =\t2000-07-99\n",
            "2020-Q3\n"
          ]
        }
      ],
      "source": [
        "# Take a proper date input from the user in the format YYYY-MM-DD. Consider this date as a string\n",
        "user_date = input(\"Enter the date in YYYY-MM-DD format =\\t\")\n",
        "\n",
        "# Write your code using if else statements to extract the quarter\n",
        "month=user_date[5:7]\n",
        "if int(month)<=3:\n",
        "  quarter=\"2020-Q1\"\n",
        "elif int(month)<=6:\n",
        "  quarter=\"2020-Q2\"\n",
        "elif int(month)<=9:\n",
        "  quarter=\"2020-Q3\"\n",
        "else:\n",
        "  quarter=\"2020-Q4\"\n",
        "\n",
        "# Store the quarter value in a string variable named quarter\n",
        "# Print the extracted quarter\n",
        "print(quarter)"
      ]
    },
    {
      "cell_type": "code",
      "execution_count": null,
      "metadata": {
        "id": "gkmzD-nCmno9"
      },
      "outputs": [],
      "source": [
        "#other method\n",
        "\n",
        "user_date = input(\"Enter the date in YYYY-MM-DD format =\\t\")\n",
        "\n",
        "# Write your code using if else statements to extract the quarter\n",
        "year=user_date[0:4]\n",
        "month=user_date[5:7]\n",
        "day=user_date[8:10]\n",
        "if int(month)<=3:\n",
        "  print(\"this is 2020-Q1\")\n",
        "elif int(month)<=6:\n",
        "  print(\"this is 2020-Q2\")\n",
        "elif int(month)<=9:\n",
        "  print(\"this is 2020-Q3\")\n",
        "else:\n",
        "  print(\"this is 2020-Q4\")"
      ]
    },
    {
      "cell_type": "markdown",
      "metadata": {
        "id": "5qd8g8UUs8CM"
      },
      "source": [
        "## <u>Problem 2 </u>\n",
        "\n",
        "* You went out in your local neighbourhood to collect the data of people residing in the locale. You surveyed 5 people and collected some data and stored that in a dictionary. You recorded their names, their age, their sex, their heights(in cms) and their weights(in kgs)"
      ]
    },
    {
      "cell_type": "code",
      "execution_count": null,
      "metadata": {
        "id": "FBJy9Sq_s8CN",
        "outputId": "c859d604-67f3-42d5-c651-a365b03129f7"
      },
      "outputs": [
        {
          "name": "stdout",
          "output_type": "stream",
          "text": [
            "Mean of Height =\t 171.0\n",
            "Median of Height =\t 170.0\n",
            "Mean of Weight =\t 66.2\n",
            "Median of weight =\t 62.0\n",
            "Age of first three people =\t [172, 175, 170]\n",
            "Last two people =\t ['Rashmi', 'Vaishali']\n",
            "Rashmi's name found in name list\n"
          ]
        }
      ],
      "source": [
        "# Surveyed data \n",
        "\n",
        "locality_data = {'Name' : ['Abhinav','Sohail','Dheeraj','Rashmi','Vaishali'],\n",
        "                  'Age' : [42,29,35,28,32],\n",
        "                  'Sex' : ['Male', 'Male','Male','Female','Female'] , \n",
        "                  'Height' : [172,175,170,168,170],\n",
        "                  'Weight' : [70,82,60,55,64]\n",
        "                 }\n",
        "\n",
        "# Calculate the mean height and print it\n",
        "mean_height=sum(locality_data[\"Height\"])/len(locality_data[\"Height\"])\n",
        "print(\"Mean of Height =\\t\",mean_height)\n",
        "\n",
        "# Calculate the median height and print it\n",
        "sorted_height=sorted(locality_data[\"Height\"])\n",
        "x=len(locality_data[\"Height\"])\n",
        "median_height=(sorted_height[int(x/2)-1]+sorted_height[int(x/2)])/2\n",
        "print(\"Median of Height =\\t\",median_height)\n",
        "\n",
        "# Calculate the mean weight and print it\n",
        "mean_weight=sum(locality_data[\"Weight\"])/len(locality_data[\"Weight\"])\n",
        "print(\"Mean of Weight =\\t\",mean_weight)\n",
        "\n",
        "# Calculate the median weight and print it\n",
        "sorted_weight=sorted(locality_data[\"Weight\"])\n",
        "y=len(locality_data[\"Weight\"])\n",
        "median_weight=(sorted_weight[int(y/2)-1]+sorted_weight[int(y/2)])/2\n",
        "print(\"Median of weight =\\t\",median_weight)\n",
        "\n",
        "# Python code to print the first three elements for the key 'Age'\n",
        "ages = locality_data[\"Height\"]\n",
        "print(\"Age of first three people =\\t\",ages[0:3])\n",
        "\n",
        "#Write a Python code to print the last two elements of the name list \n",
        "name=locality_data[\"Name\"]\n",
        "print(\"Last two people =\\t\",name[-2:])\n",
        "\n",
        "#if the list of values corresponding to the key 'Name' contains the element 'Rashmi' else print 'Name not found\n",
        "if \"Rashmi\" in name:\n",
        "    print(\"Rashmi's name found in name list\")\n",
        "else:\n",
        "    print(\"Name not Found\")"
      ]
    },
    {
      "cell_type": "markdown",
      "metadata": {
        "id": "2_rBSgqz5Ums"
      },
      "source": [
        "* Find the mean and median heights and weights of the people in your locality"
      ]
    },
    {
      "cell_type": "markdown",
      "metadata": {
        "id": "yLb5awgPQeYA"
      },
      "source": [
        "* Write a Python code to print the first three elements from the list of age values corresponding to the key 'Age'"
      ]
    },
    {
      "cell_type": "markdown",
      "metadata": {
        "id": "NGrZaqulRIM1"
      },
      "source": [
        "* Write a Python code to print the last two elements of the name list if the list of values corresponding to the key 'Name' contains the element 'Rashmi' else print 'Name not found'"
      ]
    },
    {
      "cell_type": "markdown",
      "metadata": {
        "id": "ejRCi-vTs8CU"
      },
      "source": [
        "## <u> Problem 3 </u>\n",
        "\n",
        "A student will not be allowed to sit in exam if his/her attendence is less than 75%.\n",
        "\n",
        "Take following input from user\n",
        "* Number of classes held\n",
        "* Number of classes attended."
      ]
    },
    {
      "cell_type": "code",
      "execution_count": null,
      "metadata": {
        "id": "C5olNuDGs8CU",
        "outputId": "e67187d5-15f9-4d13-d7b7-e8aaee682e93"
      },
      "outputs": [
        {
          "name": "stdout",
          "output_type": "stream",
          "text": [
            "Number of classes held =\t100\n",
            "Number of classes attended =\t23\n",
            "Your attendence =\t 23.0 %\n",
            "You are not allowed to sit in exam\n",
            "Go and attend classes first\n"
          ]
        }
      ],
      "source": [
        "# Enter your input\n",
        "\n",
        "classes_held = int(input(\"Number of classes held =\\t\"))\n",
        "\n",
        "classes_attended = int(input(\"Number of classes attended =\\t\"))\n",
        "\n",
        "attendence_in_per=classes_attended/classes_held*100\n",
        "print(\"Your attendence =\\t\",attendence_in_per,\"%\")\n",
        "\n",
        "if attendence_in_per>=75:\n",
        "    print(\"You are allowed to sit in exam\\nBest of luck!\")\n",
        "else:\n",
        "    print(\"You are not allowed to sit in exam\\nGo and attend classes first\")\n",
        "    "
      ]
    },
    {
      "cell_type": "markdown",
      "metadata": {
        "id": "QYDpXSANnKxV"
      },
      "source": [
        "And print the following statements based on the condition above\n",
        "\n",
        "* percentage of class attended\n",
        "* Is student is allowed to sit in exam or not."
      ]
    },
    {
      "cell_type": "markdown",
      "metadata": {
        "id": "P1rOYC8Is8Cf"
      },
      "source": [
        "## <u>Problem 4</u>\n",
        "\n",
        "### A school has following rules for grading system:\n",
        "* Below 25 - F\n",
        "* 25 to 45 - E\n",
        "* 45 to 50 - D\n",
        "* 50 to 60 - C\n",
        "* 60 to 80 - B\n",
        "* Above 80 - A\n",
        "\n",
        "Keep the left number inclusive and the right number exclusive, something like [25,45) for grade E where the set is closed at 25 and open at 45.\n",
        "\n",
        "Write a Python code which takes marks as inputs from the user and print the corresponding grade."
      ]
    },
    {
      "cell_type": "code",
      "execution_count": null,
      "metadata": {
        "id": "G7sVYLlCqHx7",
        "outputId": "f2314a2e-b8bb-4851-c78a-87fb5398e4c5"
      },
      "outputs": [
        {
          "name": "stdout",
          "output_type": "stream",
          "text": [
            "Enter your marks =\t45\n",
            "Your garde is D\n"
          ]
        }
      ],
      "source": [
        "# your input here\n",
        "marks=int(input(\"Enter your marks =\\t\"))\n",
        "\n",
        "if marks<25:\n",
        "    print(\"Your garde is F\")\n",
        "elif marks<45:\n",
        "    print(\"Your garde is E\")\n",
        "elif marks<50:\n",
        "    print(\"Your garde is D\")\n",
        "elif marks<60:\n",
        "    print(\"Your garde is C\")\n",
        "elif marks<80:\n",
        "    print(\"Your garde is B\")\n",
        "else:\n",
        "    print(\"Your garde is A\")"
      ]
    }
  ],
  "metadata": {
    "colab": {
      "collapsed_sections": [],
      "name": "Statements,_Indentation_and_Conditionals.ipynb",
      "provenance": [],
      "include_colab_link": true
    },
    "kernelspec": {
      "display_name": "Python 3 (ipykernel)",
      "language": "python",
      "name": "python3"
    },
    "language_info": {
      "codemirror_mode": {
        "name": "ipython",
        "version": 3
      },
      "file_extension": ".py",
      "mimetype": "text/x-python",
      "name": "python",
      "nbconvert_exporter": "python",
      "pygments_lexer": "ipython3",
      "version": "3.9.7"
    }
  },
  "nbformat": 4,
  "nbformat_minor": 0
}